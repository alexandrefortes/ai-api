{
 "cells": [
  {
   "cell_type": "markdown",
   "metadata": {},
   "source": [
    "## OpenAI API\n",
    "Alexandre Fortes Santana"
   ]
  },
  {
   "cell_type": "markdown",
   "metadata": {},
   "source": [
    "🟢Função para consultar OpenAI\n",
    "\n",
    "❌Envio de arquivos  \n",
    "❌Transcrição de áudios  \n",
    "❌Treinamento / fine-tunning  "
   ]
  },
  {
   "cell_type": "markdown",
   "metadata": {},
   "source": [
    "### API OpenAI"
   ]
  },
  {
   "cell_type": "code",
   "execution_count": 1,
   "metadata": {},
   "outputs": [],
   "source": [
    "from dotenv import load_dotenv\n",
    "import os\n",
    "from openai import OpenAI\n",
    "\n",
    "def fala_gepeto(prompt, temperature=0.7, model=\"gpt-3.5\", max_tokens=300, response_format=\"json\"):\n",
    "\n",
    "    # Load environment variables from .env file\n",
    "    load_dotenv()\n",
    "    api_key=os.getenv(\"OPENAI_API_KEY\")\n",
    "    openai_client = OpenAI(api_key=api_key)\n",
    "\n",
    "    # Determinar o modelo com base nos parâmetros\n",
    "    if model == \"gpt-4\":\n",
    "        model_to_use = \"gpt-4-1106-preview\"\n",
    "    else:\n",
    "        model_to_use = \"gpt-3.5-turbo\"\n",
    "\n",
    "    # Configuração da resposta\n",
    "    if response_format == \"json\" and model == \"gpt-4\":\n",
    "        response_config={\"type\": \"json_object\"}\n",
    "        prompt+=\"Resposta em json.\"\n",
    "    else:\n",
    "        response_config=None  \n",
    "\n",
    "    # Criando o prompt para a API\n",
    "    completion = openai_client.chat.completions.create(\n",
    "        model=model_to_use,\n",
    "        response_format=response_config,\n",
    "        temperature=temperature,\n",
    "        max_tokens=max_tokens,\n",
    "        messages=[\n",
    "            {\"role\": \"system\", \"content\": \"Você é um Analista de Séries Temporais especialista em clima do planeta Terra.\"},\n",
    "            {\"role\": \"user\", \"content\": prompt}\n",
    "        ]\n",
    "    )\n",
    "    return completion.choices[0].message.content"
   ]
  },
  {
   "cell_type": "code",
   "execution_count": 33,
   "metadata": {},
   "outputs": [
    {
     "name": "stdout",
     "output_type": "stream",
     "text": [
      "Oi!\n",
      "{\n",
      "  \"mensagem\": \"Oi\"\n",
      "}\n",
      "Olá\n"
     ]
    }
   ],
   "source": [
    "print(fala_gepeto(\"diga só oi\", 0.9, model=\"gpt-3\", max_tokens=2, response_format=\"\"))\n",
    "\n",
    "print(fala_gepeto(\"diga só oi\", 0.9, model=\"gpt-4\", max_tokens=10, response_format=\"json\"))\n",
    "\n",
    "print(fala_gepeto(\"diga só oi\", 0.9, model=\"gpt-4\", max_tokens=2, response_format=\"\"))"
   ]
  }
 ],
 "metadata": {
  "kernelspec": {
   "display_name": "Python 3",
   "language": "python",
   "name": "python3"
  },
  "language_info": {
   "codemirror_mode": {
    "name": "ipython",
    "version": 3
   },
   "file_extension": ".py",
   "mimetype": "text/x-python",
   "name": "python",
   "nbconvert_exporter": "python",
   "pygments_lexer": "ipython3",
   "version": "3.9.0"
  }
 },
 "nbformat": 4,
 "nbformat_minor": 2
}
